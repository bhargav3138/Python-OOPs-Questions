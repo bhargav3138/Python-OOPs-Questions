{
  "nbformat": 4,
  "nbformat_minor": 0,
  "metadata": {
    "colab": {
      "provenance": []
    },
    "kernelspec": {
      "name": "python3",
      "display_name": "Python 3"
    },
    "language_info": {
      "name": "python"
    }
  },
  "cells": [
    {
      "cell_type": "markdown",
      "source": [
        "#Python OOPs Questions\n"
      ],
      "metadata": {
        "id": "kVEkABh3c9ge"
      }
    },
    {
      "cell_type": "markdown",
      "source": [
        "# THEORY Questions"
      ],
      "metadata": {
        "id": "xPc54dA5dALl"
      }
    },
    {
      "cell_type": "markdown",
      "source": [
        "Que 1) What is Object-Oriented Programming (OOP)?\n",
        "- Object-Oriented Programming (OOP) is a programming paradigm that is based on the concept of \"objects\", which represent real-world entities. An object consists of data (attributes) and functions (methods) that operate on the data."
      ],
      "metadata": {
        "id": "nG9ppC3pdAeU"
      }
    },
    {
      "cell_type": "markdown",
      "source": [
        "Que 2) What is a class in OOP?\n",
        "- A class in OOP is a blueprint or template for creating objects. It defines the data members (attributes) and member functions (methods) that the objects created from the class will have.\n"
      ],
      "metadata": {
        "id": "dQESVAlZds0v"
      }
    },
    {
      "cell_type": "markdown",
      "source": [
        "Que 3) What is an object in OOP?\n",
        "- An object in OOP is a real-world entity that is created using a class. It is a runtime instance of a class that contains actual values for the data members defined in the class and can perform actions using its methods."
      ],
      "metadata": {
        "id": "qBiIXxLNdBh7"
      }
    },
    {
      "cell_type": "markdown",
      "source": [
        "Que 4) What is the difference between abstraction and encapsulation?\n",
        "- Abstraction is the process of hiding the internal implementation details and showing only the essential features to the user. It focuses on what an object does.\n",
        "\n",
        "- Encapsulation is the process of wrapping data and methods into a single unit and restricting direct access to the data using access specifiers. It focuses on how the data is protected."
      ],
      "metadata": {
        "id": "qaO0S-xbdBfk"
      }
    },
    {
      "cell_type": "markdown",
      "source": [
        "Que 5) What are dunder methods in Python?\n",
        "- Dunder methods (short for \"double underscore\" methods) in Python are special methods that have double underscores before and after their names.\n",
        "They are also known as magic methods or special methods."
      ],
      "metadata": {
        "id": "C5_MjBJHdBc5"
      }
    },
    {
      "cell_type": "markdown",
      "source": [
        "Que 6)  Explain the concept of inheritance in OOP\n",
        "- Inheritance is a key concept in Object-Oriented Programming (OOP) that allows a class (child/subclass) to acquire properties and behaviors (data and methods) from another class (parent/superclass).\n",
        "\n",
        "It promotes code reusability, extensibility, and helps in creating a hierarchical relationship between classes."
      ],
      "metadata": {
        "id": "493agKmNdBaZ"
      }
    },
    {
      "cell_type": "markdown",
      "source": [
        "Que 7) What is polymorphism in OOP?\n",
        "- Polymorphism is an OOP concept that means \"one name, many forms\".\n",
        "It allows one function or operator to behave differently based on the object or context."
      ],
      "metadata": {
        "id": "6CfQ_DzpdBX4"
      }
    },
    {
      "cell_type": "markdown",
      "source": [
        "Que 8) How is encapsulation achieved in Python?\n",
        "- Encapsulation in Python is achieved by restricting access to variables and methods using access specifiers and by wrapping data and methods into a class."
      ],
      "metadata": {
        "id": "sHhRVgnRdBVM"
      }
    },
    {
      "cell_type": "markdown",
      "source": [
        "Que 9) What is a constructor in Python?\n",
        "- A constructor in Python is a special method used to initialize objects when they are created from a class.\n",
        "\n",
        "- In Python, the constructor method is called __init__()."
      ],
      "metadata": {
        "id": "tHIqmzqpdBSb"
      }
    },
    {
      "cell_type": "markdown",
      "source": [
        "Que 10 ) What are class and static methods in Python?\n",
        "-  1. Class Method:\n",
        "A class method is a method that is bound to the class, not the object.\n",
        "\n",
        "It has access to the class itself via the first parameter, which is always named cls.\n",
        "\n",
        "It can access and modify class-level data (not instance-level data).\n",
        "\n",
        "- 2. Static Method:\n",
        "A static method does not take self or cls as its first parameter.\n",
        "\n",
        "It behaves like a regular function but belongs to the class's namespace.\n",
        "\n",
        "Used when the method does not need access to class or instance data."
      ],
      "metadata": {
        "id": "KxVySL5mdBQC"
      }
    },
    {
      "cell_type": "markdown",
      "source": [
        "Que 11 ) What is method overloading in Python?\n",
        "- Method Overloading is a concept in OOP where multiple methods in the same class have the same name but different parameters (number or type).\n",
        "\n",
        "- Python does not support traditional method overloading like C++ or Java.\n",
        "Instead, it allows default arguments and variable-length arguments to achieve similar behavior."
      ],
      "metadata": {
        "id": "wLwgaa7RdBNZ"
      }
    },
    {
      "cell_type": "markdown",
      "source": [
        "Que 12 ) What is method overriding in OOP?\n",
        "- Method Overriding is a concept in Object-Oriented Programming (OOP) where a child class provides a specific implementation of a method that is already defined in its parent class."
      ],
      "metadata": {
        "id": "CgYOGVMmdBK0"
      }
    },
    {
      "cell_type": "markdown",
      "source": [
        "Que 13 ) What is a property decorator in Python?\n",
        "- In Python, the @property decorator is used to define a method as a read-only property.\n",
        "It allows accessing a method like an attribute, without using parentheses.\n",
        "\n",
        "🔹 Purpose:\n",
        "To encapsulate instance variables.\n",
        "\n",
        "To control access to private data.\n",
        "\n",
        "To make a method look like an attribute, providing clean syntax."
      ],
      "metadata": {
        "id": "JHGyUbbrdBIL"
      }
    },
    {
      "cell_type": "markdown",
      "source": [
        "Que 14 ) Why is polymorphism important in OOP?\n",
        "- Polymorphism is important in Object-Oriented Programming (OOP) because it allows objects of different classes to be treated as objects of a common base class, while still behaving differently.\n",
        "\n",
        "🔹 Benefits of Polymorphism:\n",
        "✅ Code Reusability – Same interface or method name can be reused for different data types or classes.\n",
        "\n",
        "✅ Flexibility & Extensibility – New classes can be added with minimal code changes.\n",
        "\n",
        "✅ Improves Maintainability – Makes the code cleaner and easier to manage by allowing dynamic method calls.\n",
        "\n",
        "✅ Enables Runtime Behavior Change – Through method overriding, objects can define their own behavior at runtime."
      ],
      "metadata": {
        "id": "_xpaTyhmdBFg"
      }
    },
    {
      "cell_type": "markdown",
      "source": [
        "Que 15) What is an abstract class in Python?\n",
        "- An abstract class in Python is a class that cannot be instantiated directly and is used to define a common interface for its subclasses.\n",
        "\n",
        "- It can contain abstract methods (methods without implementation) that must be implemented by any subclass.\n",
        "\n"
      ],
      "metadata": {
        "id": "bWVcbjaNdBCr"
      }
    },
    {
      "cell_type": "markdown",
      "source": [
        "Que 16 ) What are the advantages of OOP?\n",
        "- Modularity :- Code is divided into classes and objects, making it easier to understand and manage.\n",
        "\n",
        "Reusability :- Classes and methods can be reused in other programs through inheritance.\n",
        "\n",
        "Encapsulation :- Protects data by bundling it with related methods and restricting direct access.\n",
        "\n",
        "Polymorphism :- Allows the same function or method to behave differently based on the context.\n",
        "\n",
        "Extensibility :- Easy to add new features by extending existing classes.\n",
        "\n",
        "Maintainability :- Cleaner, modular code makes bug fixing and updates easier."
      ],
      "metadata": {
        "id": "baFrofZAdAvI"
      }
    },
    {
      "cell_type": "markdown",
      "source": [
        "Que 17 )What is the difference between a class variable and an instance variable?\n",
        "- A class variable is a variable that is shared by all objects of a class. It is defined inside the class but outside all methods. Changes made to the class variable affect all instances of the class.\n",
        "\n",
        "- An instance variable is a variable that is unique to each object. It is defined inside a method, usually within the __init__() constructor, using self. Each object maintains its own separate copy of instance variables."
      ],
      "metadata": {
        "id": "WoOkybPrgSyX"
      }
    },
    {
      "cell_type": "markdown",
      "source": [
        "Que 18 )  What is multiple inheritance in Python?\n",
        "- Multiple Inheritance is a feature in Python where a class can inherit from more than one parent class.\n",
        "This allows a child class to access the properties and methods of multiple base classes.\n"
      ],
      "metadata": {
        "id": "LhDBsFHfgVln"
      }
    },
    {
      "cell_type": "markdown",
      "source": [
        "Que 19 )Explain the purpose of ‘’__str__’ and ‘__repr__’ ‘ methods in Python ?\n",
        "- 1. __str__() Method:\n",
        "    Returns a user-friendly string representation of an object.\n",
        "\n",
        "    Used when you call print(object) or str(object).\n",
        "\n",
        "    Goal: Readable output for end users.\n",
        "\n",
        "- __repr__() Method:\n",
        "    Returns a developer-friendly string (often with enough detail to recreate the object).\n",
        "\n",
        "    Used in the interpreter or when calling repr(object).\n",
        "\n",
        "    Goal: Debugging and unambiguous representation."
      ],
      "metadata": {
        "id": "xY8PDoZBgmah"
      }
    },
    {
      "cell_type": "markdown",
      "source": [
        "Que 20 ) What is the significance of the ‘super()’ function in Python?\n",
        "- The super() function in Python is used to call a method from the parent (or superclass) inside a child (subclass). It is most commonly used in inheritance.\n",
        "\n",
        "🔹 Purpose of super():\n",
        "      - Access parent class methods or constructors without using the parent class name directly.\n",
        "\n",
        "     - Helps in maintaining clean and maintainable code, especially in multiple inheritance.\n",
        "\n",
        "     - Ensures Method Resolution Order (MRO) is followed correctly."
      ],
      "metadata": {
        "id": "3Jn0eff8g6_5"
      }
    },
    {
      "cell_type": "markdown",
      "source": [
        "Que 21)What is the significance of the __del__ method in Python?\n",
        "- The __del__ method in Python is a special (dunder) method known as a destructor.\n",
        "It is automatically called when an object is about to be destroyed (i.e., when it is garbage collected).\n",
        "\n",
        "🔹 Purpose of __del__:\n",
        "Used to clean up resources, such as closing files, network connections, or releasing memory.\n",
        "\n",
        "Acts as a cleanup method before the object is deleted."
      ],
      "metadata": {
        "id": "tmMvkPT8hFIg"
      }
    },
    {
      "cell_type": "markdown",
      "source": [
        "Que 22 )What is the difference between @staticmethod and @classmethod in Python?\n",
        "- 1. @staticmethod:\n",
        "      - Does not take self or cls as the first argument.\n",
        "\n",
        "      - Cannot access or modify class or instance data.\n",
        "\n",
        "      - Behaves like a normal function, but belongs to the class for organizational purposes.\n",
        "\n",
        "🔹 2. @classmethod:\n",
        "      - Takes cls as the first argument, which refers to the class itself.\n",
        "\n",
        "      - Can access or modify class variables.\n",
        "\n",
        "      - Useful for creating factory methods or alternative constructors."
      ],
      "metadata": {
        "id": "-ZNhaAjmhUud"
      }
    },
    {
      "cell_type": "markdown",
      "source": [
        "Que 23)How does polymorphism work in Python with inheritance?\n",
        "- In Python, polymorphism with inheritance means that a child class can override methods of its parent class, and objects of different classes can be used interchangeably if they follow the same interface."
      ],
      "metadata": {
        "id": "HeNk3_dXizWI"
      }
    },
    {
      "cell_type": "markdown",
      "source": [
        "Que 24 ) What is method chaining in Python OOP?\n",
        "- Method chaining is a programming technique where multiple methods are called on the same object in a single line, one after another.\n",
        "In Python OOP, this is done by returning self from each method so that the next method can be called on the same object.\n"
      ],
      "metadata": {
        "id": "dNYJ3W25i8Zm"
      }
    },
    {
      "cell_type": "markdown",
      "source": [
        "Que 25 )What is the purpose of the __call__ method in Python?\n",
        "- The __call__ method in Python is a special method that allows an object of a class to be called like a function."
      ],
      "metadata": {
        "id": "GvtPmjNdjC7S"
      }
    },
    {
      "cell_type": "markdown",
      "source": [
        "# Practical Questions"
      ],
      "metadata": {
        "id": "WmSc8pxkjLKH"
      }
    },
    {
      "cell_type": "markdown",
      "source": [
        "Que 1 )Create a parent class Animal with a method speak() that prints a generic message. Create a child class Dog\n",
        "that overrides the speak() method to print \"Bark!\"."
      ],
      "metadata": {
        "id": "hkl8xF7WjNUG"
      }
    },
    {
      "cell_type": "code",
      "source": [
        "# Parent class\n",
        "class Animal:\n",
        "    def speak(self):\n",
        "        print(\"Animal makes a sound.\")\n",
        "\n",
        "# Child class\n",
        "class Dog(Animal):\n",
        "    def speak(self):\n",
        "        print(\"Bark!\")\n",
        "\n",
        "# Creating objects\n",
        "a = Animal()\n",
        "d = Dog()\n",
        "\n",
        "# Calling methods\n",
        "a.speak()\n",
        "d.speak()\n"
      ],
      "metadata": {
        "colab": {
          "base_uri": "https://localhost:8080/"
        },
        "id": "IeLOxYRXjPnf",
        "outputId": "3bf8c1e3-14b9-4ba8-b626-865226739129"
      },
      "execution_count": 1,
      "outputs": [
        {
          "output_type": "stream",
          "name": "stdout",
          "text": [
            "Animal makes a sound.\n",
            "Bark!\n"
          ]
        }
      ]
    },
    {
      "cell_type": "markdown",
      "source": [
        "Que 2) Write a program to create an abstract class Shape with a method area(). Derive classes Circle and Rectangle\n",
        "from it and implement the area() method in both.\n",
        "\n",
        "\n"
      ],
      "metadata": {
        "id": "hUfr8U_AjYy-"
      }
    },
    {
      "cell_type": "code",
      "source": [
        "from abc import ABC, abstractmethod\n",
        "import math\n",
        "\n",
        "# Abstract class\n",
        "class Shape(ABC):\n",
        "    @abstractmethod\n",
        "    def area(self):\n",
        "        pass\n",
        "\n",
        "# Derived class: Circle\n",
        "class Circle(Shape):\n",
        "    def __init__(self, radius):\n",
        "        self.radius = radius\n",
        "\n",
        "    def area(self):\n",
        "        return math.pi * self.radius * self.radius\n",
        "\n",
        "# Derived class: Rectangle\n",
        "class Rectangle(Shape):\n",
        "    def __init__(self, length, width):\n",
        "        self.length = length\n",
        "        self.width = width\n",
        "\n",
        "    def area(self):\n",
        "        return self.length * self.width\n",
        "\n",
        "# Create objects\n",
        "c = Circle(5)\n",
        "r = Rectangle(4, 6)\n",
        "\n",
        "# Display areas\n",
        "print(\"Area of Circle:\", c.area())\n",
        "print(\"Area of Rectangle:\", r.area())\n"
      ],
      "metadata": {
        "colab": {
          "base_uri": "https://localhost:8080/"
        },
        "id": "aC1_JdRNjcbc",
        "outputId": "e09b1e4a-042e-46c1-9833-f5d36da47672"
      },
      "execution_count": 2,
      "outputs": [
        {
          "output_type": "stream",
          "name": "stdout",
          "text": [
            "Area of Circle: 78.53981633974483\n",
            "Area of Rectangle: 24\n"
          ]
        }
      ]
    },
    {
      "cell_type": "markdown",
      "source": [
        "Que 3) Implement a multi-level inheritance scenario where a class Vehicle has an attribute type. Derive a class Car\n",
        "and further derive a class ElectricCar that adds a battery attribute."
      ],
      "metadata": {
        "id": "I6uQxwqajf6U"
      }
    },
    {
      "cell_type": "code",
      "source": [
        "# Base class\n",
        "class Vehicle:\n",
        "    def __init__(self, vehicle_type):\n",
        "        self.vehicle_type = vehicle_type\n",
        "\n",
        "    def display_type(self):\n",
        "        print(\"Vehicle Type:\", self.vehicle_type)\n",
        "\n",
        "# Derived class from Vehicle\n",
        "class Car(Vehicle):\n",
        "    def __init__(self, vehicle_type, brand):\n",
        "        super().__init__(vehicle_type)\n",
        "        self.brand = brand\n",
        "\n",
        "    def display_brand(self):\n",
        "        print(\"Car Brand:\", self.brand)\n",
        "\n",
        "# Derived class from Car\n",
        "class ElectricCar(Car):\n",
        "    def __init__(self, vehicle_type, brand, battery_capacity):\n",
        "        super().__init__(vehicle_type, brand)\n",
        "        self.battery_capacity = battery_capacity\n",
        "\n",
        "    def display_battery(self):\n",
        "        print(\"Battery Capacity:\", self.battery_capacity, \"kWh\")\n",
        "\n",
        "# Create an ElectricCar object\n",
        "ecar = ElectricCar(\"Four Wheeler\", \"Tesla\", 75)\n",
        "\n",
        "# Call methods\n",
        "ecar.display_type()\n",
        "ecar.display_brand()\n",
        "ecar.display_battery()\n"
      ],
      "metadata": {
        "colab": {
          "base_uri": "https://localhost:8080/"
        },
        "id": "WJ8xuLyyjjoB",
        "outputId": "22c8a49e-abc6-42e4-9f94-154a5f84b87d"
      },
      "execution_count": 3,
      "outputs": [
        {
          "output_type": "stream",
          "name": "stdout",
          "text": [
            "Vehicle Type: Four Wheeler\n",
            "Car Brand: Tesla\n",
            "Battery Capacity: 75 kWh\n"
          ]
        }
      ]
    },
    {
      "cell_type": "markdown",
      "source": [
        "Que 4)  Demonstrate polymorphism by creating a base class Bird with a method fly(). Create two derived classes\n",
        "Sparrow and Penguin that override the fly() method.\n"
      ],
      "metadata": {
        "id": "a-3UFOQtjmcg"
      }
    },
    {
      "cell_type": "code",
      "source": [
        "# Base class\n",
        "class Bird:\n",
        "    def fly(self):\n",
        "        print(\"Birds can fly.\")\n",
        "\n",
        "# Derived class: Sparrow\n",
        "class Sparrow(Bird):\n",
        "    def fly(self):\n",
        "        print(\"Sparrow flies high in the sky.\")\n",
        "\n",
        "# Derived class: Penguin\n",
        "class Penguin(Bird):\n",
        "    def fly(self):\n",
        "        print(\"Penguins cannot fly, they swim.\")\n",
        "\n",
        "# Function to demonstrate polymorphism\n",
        "def bird_flight(bird):\n",
        "    bird.fly()\n",
        "\n",
        "# Create objects\n",
        "sparrow = Sparrow()\n",
        "penguin = Penguin()\n",
        "\n",
        "# Polymorphic behavior\n",
        "bird_flight(sparrow)\n",
        "bird_flight(penguin)\n"
      ],
      "metadata": {
        "colab": {
          "base_uri": "https://localhost:8080/"
        },
        "id": "CZLZbfqWjpZT",
        "outputId": "fdf3e412-ebb6-4579-9a9d-3a8390b1fb2a"
      },
      "execution_count": 4,
      "outputs": [
        {
          "output_type": "stream",
          "name": "stdout",
          "text": [
            "Sparrow flies high in the sky.\n",
            "Penguins cannot fly, they swim.\n"
          ]
        }
      ]
    },
    {
      "cell_type": "markdown",
      "source": [
        "QUE 5)  Write a program to demonstrate encapsulation by creating a class BankAccount with private attributes\n",
        "balance and methods to deposit, withdraw, and check balance."
      ],
      "metadata": {
        "id": "OLvqr6Kzju1s"
      }
    },
    {
      "cell_type": "code",
      "source": [
        "class BankAccount:\n",
        "    def __init__(self, initial_balance=0):\n",
        "        self.__balance = initial_balance  # private attribute\n",
        "\n",
        "    def deposit(self, amount):\n",
        "        if amount > 0:\n",
        "            self.__balance += amount\n",
        "            print(f\"Deposited ₹{amount}\")\n",
        "        else:\n",
        "            print(\"Deposit amount must be positive.\")\n",
        "\n",
        "    def withdraw(self, amount):\n",
        "        if 0 < amount <= self.__balance:\n",
        "            self.__balance -= amount\n",
        "            print(f\"Withdrew ₹{amount}\")\n",
        "        else:\n",
        "            print(\"Insufficient balance or invalid amount.\")\n",
        "\n",
        "    def check_balance(self):\n",
        "        print(f\"Current Balance: ₹{self.__balance}\")\n",
        "\n",
        "# Create a BankAccount object\n",
        "account = BankAccount(1000)\n",
        "\n",
        "# Perform operations\n",
        "account.deposit(500)\n",
        "account.withdraw(300)\n",
        "account.check_balance()\n"
      ],
      "metadata": {
        "colab": {
          "base_uri": "https://localhost:8080/"
        },
        "id": "Q6gZrf4yjyHF",
        "outputId": "c35f40c0-a6de-42b0-f645-701ad652ea96"
      },
      "execution_count": 5,
      "outputs": [
        {
          "output_type": "stream",
          "name": "stdout",
          "text": [
            "Deposited ₹500\n",
            "Withdrew ₹300\n",
            "Current Balance: ₹1200\n"
          ]
        }
      ]
    },
    {
      "cell_type": "markdown",
      "source": [
        "Que 6) Demonstrate runtime polymorphism using a method play() in a base class Instrument. Derive classes Guitar\n",
        "and Piano that implement their own version of play()."
      ],
      "metadata": {
        "id": "9IvknarMj9jQ"
      }
    },
    {
      "cell_type": "code",
      "source": [
        "# Base class\n",
        "class Instrument:\n",
        "    def play(self):\n",
        "        print(\"Instrument is playing.\")\n",
        "\n",
        "# Derived class: Guitar\n",
        "class Guitar(Instrument):\n",
        "    def play(self):\n",
        "        print(\"Strumming the guitar!\")\n",
        "\n",
        "# Derived class: Piano\n",
        "class Piano(Instrument):\n",
        "    def play(self):\n",
        "        print(\"Playing the piano keys!\")\n",
        "\n",
        "# Function demonstrating polymorphism\n",
        "def perform(instrument):\n",
        "    instrument.play()\n",
        "\n",
        "# Create objects\n",
        "g = Guitar()\n",
        "p = Piano()\n",
        "\n",
        "# Call the same method on different objects\n",
        "perform(g)\n",
        "perform(p)\n"
      ],
      "metadata": {
        "colab": {
          "base_uri": "https://localhost:8080/"
        },
        "id": "MryWZWsOkBAK",
        "outputId": "8ca54374-bafc-4f2d-9b97-d8faa924c6fb"
      },
      "execution_count": 6,
      "outputs": [
        {
          "output_type": "stream",
          "name": "stdout",
          "text": [
            "Strumming the guitar!\n",
            "Playing the piano keys!\n"
          ]
        }
      ]
    },
    {
      "cell_type": "markdown",
      "source": [
        "Que 7)Create a class MathOperations with a class method add_numbers() to add two numbers and a static\n",
        "method subtract_numbers() to subtract two numbers."
      ],
      "metadata": {
        "id": "lxC7pV1vkGfU"
      }
    },
    {
      "cell_type": "code",
      "source": [
        "class MathOperations:\n",
        "    @classmethod\n",
        "    def add_numbers(cls, a, b):\n",
        "        return a + b\n",
        "\n",
        "    @staticmethod\n",
        "    def subtract_numbers(a, b):\n",
        "        return a - b\n",
        "\n",
        "# Call the methods\n",
        "sum_result = MathOperations.add_numbers(10, 5)\n",
        "diff_result = MathOperations.subtract_numbers(10, 5)\n",
        "\n",
        "# Display the results\n",
        "print(\"Addition:\", sum_result)\n",
        "print(\"Subtraction:\", diff_result)\n"
      ],
      "metadata": {
        "colab": {
          "base_uri": "https://localhost:8080/"
        },
        "id": "Gj1nYkpnkIsb",
        "outputId": "caaf62f4-d5dd-4b64-e72e-b136d0338987"
      },
      "execution_count": 7,
      "outputs": [
        {
          "output_type": "stream",
          "name": "stdout",
          "text": [
            "Addition: 15\n",
            "Subtraction: 5\n"
          ]
        }
      ]
    },
    {
      "cell_type": "markdown",
      "source": [
        "Que 8)  Implement a class Person with a class method to count the total number of persons created."
      ],
      "metadata": {
        "id": "Z2BaPDTokNzQ"
      }
    },
    {
      "cell_type": "code",
      "source": [
        "class Person:\n",
        "    count = 0  # Class variable to track number of persons\n",
        "\n",
        "    def __init__(self, name):\n",
        "        self.name = name\n",
        "        Person.count += 1  # Increment count when a new person is created\n",
        "\n",
        "    @classmethod\n",
        "    def get_person_count(cls):\n",
        "        return cls.count\n",
        "\n",
        "# Creating Person objects\n",
        "p1 = Person(\"Alice\")\n",
        "p2 = Person(\"Bob\")\n",
        "p3 = Person(\"Charlie\")\n",
        "\n",
        "# Display total number of persons created\n",
        "print(\"Total Persons Created:\", Person.get_person_count())\n"
      ],
      "metadata": {
        "colab": {
          "base_uri": "https://localhost:8080/"
        },
        "id": "8KfU92zzkRpU",
        "outputId": "89bc39bc-a787-423d-df51-87b463b640c7"
      },
      "execution_count": 8,
      "outputs": [
        {
          "output_type": "stream",
          "name": "stdout",
          "text": [
            "Total Persons Created: 3\n"
          ]
        }
      ]
    },
    {
      "cell_type": "markdown",
      "source": [
        "Que 9) Write a class Fraction with attributes numerator and denominator. Override the str method to display the\n",
        "fraction as \"numerator/denominator\"."
      ],
      "metadata": {
        "id": "ucKR_iVXkV_M"
      }
    },
    {
      "cell_type": "code",
      "source": [
        "class Fraction:\n",
        "    def __init__(self, numerator, denominator):\n",
        "        self.numerator = numerator\n",
        "        self.denominator = denominator\n",
        "\n",
        "    def __str__(self):\n",
        "        return f\"{self.numerator}/{self.denominator}\"\n",
        "\n",
        "# Create Fraction objects\n",
        "f1 = Fraction(3, 4)\n",
        "f2 = Fraction(7, 2)\n",
        "\n",
        "# Print the fractions\n",
        "print(f1)\n",
        "print(f2)\n"
      ],
      "metadata": {
        "id": "XsyGW2MdkcU7"
      },
      "execution_count": null,
      "outputs": []
    },
    {
      "cell_type": "markdown",
      "source": [
        "Que 10 )Demonstrate operator overloading by creating a class Vector and overriding the add method to add two\n",
        "vectors."
      ],
      "metadata": {
        "id": "jqJuFKdYkfzC"
      }
    },
    {
      "cell_type": "code",
      "source": [
        "class Vector:\n",
        "    def __init__(self, x, y):\n",
        "        self.x = x\n",
        "        self.y = y\n",
        "\n",
        "    def __add__(self, other):\n",
        "        # Overloading the + operator\n",
        "        return Vector(self.x + other.x, self.y + other.y)\n",
        "\n",
        "    def __str__(self):\n",
        "        return f\"({self.x}, {self.y})\"\n",
        "\n",
        "# Create two vector objects\n",
        "v1 = Vector(2, 3)\n",
        "v2 = Vector(4, 5)\n",
        "\n",
        "# Add two vectors using overloaded + operator\n",
        "v3 = v1 + v2\n",
        "\n",
        "# Display result\n",
        "print(\"v1 + v2 =\", v3)\n"
      ],
      "metadata": {
        "colab": {
          "base_uri": "https://localhost:8080/"
        },
        "id": "jd6nljHUkjvZ",
        "outputId": "bc2ece3a-a317-4292-c925-9e7225848bac"
      },
      "execution_count": 9,
      "outputs": [
        {
          "output_type": "stream",
          "name": "stdout",
          "text": [
            "v1 + v2 = (6, 8)\n"
          ]
        }
      ]
    },
    {
      "cell_type": "markdown",
      "source": [
        "QUE 11) Create a class Person with attributes name and age. Add a method greet() that prints \"Hello, my name is\n",
        "{name} and I am {age} years old.\"\n",
        "\n",
        "\n"
      ],
      "metadata": {
        "id": "32EQdAaikndU"
      }
    },
    {
      "cell_type": "code",
      "source": [
        "class Person:\n",
        "    def __init__(self, name, age):\n",
        "        self.name = name\n",
        "        self.age = age\n",
        "\n",
        "    def greet(self):\n",
        "        print(f\"Hello, my name is {self.name} and I am {self.age} years old.\")\n",
        "\n",
        "# Create a Person object\n",
        "p1 = Person(\"Bhargav\", 21)\n",
        "\n",
        "# Call the greet method\n",
        "p1.greet()\n"
      ],
      "metadata": {
        "colab": {
          "base_uri": "https://localhost:8080/"
        },
        "id": "ZIMrXQw3kqRk",
        "outputId": "a3398683-b0d8-4c33-8139-0760a207c20a"
      },
      "execution_count": 10,
      "outputs": [
        {
          "output_type": "stream",
          "name": "stdout",
          "text": [
            "Hello, my name is Bhargav and I am 21 years old.\n"
          ]
        }
      ]
    },
    {
      "cell_type": "markdown",
      "source": [
        "Que 12 ) Implement a class Student with attributes name and grades. Create a method average_grade() to compute\n",
        "the average of the grades"
      ],
      "metadata": {
        "id": "xr2yifS2kw2c"
      }
    },
    {
      "cell_type": "code",
      "source": [
        "class Student:\n",
        "    def __init__(self, name, grades):\n",
        "        self.name = name\n",
        "        self.grades = grades  # grades should be a list of numbers\n",
        "\n",
        "    def average_grade(self):\n",
        "        if self.grades:\n",
        "            return sum(self.grades) / len(self.grades)\n",
        "        else:\n",
        "            return 0\n",
        "\n",
        "# Create a Student object\n",
        "s1 = Student(\"Bhargav\", [85, 90, 78, 92, 88])\n",
        "\n",
        "# Compute and display average grade\n",
        "print(f\"{s1.name}'s average grade is: {s1.average_grade():.2f}\")\n"
      ],
      "metadata": {
        "colab": {
          "base_uri": "https://localhost:8080/"
        },
        "id": "Lpbug_mIk4ly",
        "outputId": "c32233cf-5a68-439a-e1d4-5b1997deb823"
      },
      "execution_count": 11,
      "outputs": [
        {
          "output_type": "stream",
          "name": "stdout",
          "text": [
            "Bhargav's average grade is: 86.60\n"
          ]
        }
      ]
    },
    {
      "cell_type": "markdown",
      "source": [
        "Que 13)  Create a class Rectangle with methods set_dimensions() to set the dimensions and area() to calculate the\n",
        "area."
      ],
      "metadata": {
        "id": "ioUq1YaRk6hE"
      }
    },
    {
      "cell_type": "code",
      "source": [
        "class Rectangle:\n",
        "    def __init__(self):\n",
        "        self.length = 0\n",
        "        self.width = 0\n",
        "\n",
        "    def set_dimensions(self, length, width):\n",
        "        self.length = length\n",
        "        self.width = width\n",
        "\n",
        "    def area(self):\n",
        "        return self.length * self.width\n",
        "\n",
        "# Create a Rectangle object\n",
        "rect = Rectangle()\n",
        "\n",
        "# Set dimensions\n",
        "rect.set_dimensions(10, 5)\n",
        "\n",
        "# Calculate and display area\n",
        "print(\"Area of Rectangle:\", rect.area())\n"
      ],
      "metadata": {
        "id": "pycuBtp4k-2R"
      },
      "execution_count": null,
      "outputs": []
    },
    {
      "cell_type": "markdown",
      "source": [
        "Que 14) Create a class Employee with a method calculate_salary() that computes the salary based on hours worked\n",
        "and hourly rate. Create a derived class Manager that adds a bonus to the salary"
      ],
      "metadata": {
        "id": "13gSSWjIlBNP"
      }
    },
    {
      "cell_type": "code",
      "source": [
        "# Base class\n",
        "class Employee:\n",
        "    def __init__(self, name, hours_worked, hourly_rate):\n",
        "        self.name = name\n",
        "        self.hours_worked = hours_worked\n",
        "        self.hourly_rate = hourly_rate\n",
        "\n",
        "    def calculate_salary(self):\n",
        "        return self.hours_worked * self.hourly_rate\n",
        "\n",
        "# Derived class\n",
        "class Manager(Employee):\n",
        "    def __init__(self, name, hours_worked, hourly_rate, bonus):\n",
        "        super().__init__(name, hours_worked, hourly_rate)\n",
        "        self.bonus = bonus\n",
        "\n",
        "    def calculate_salary(self):\n",
        "        base_salary = super().calculate_salary()\n",
        "        return base_salary + self.bonus\n",
        "\n",
        "# Create objects\n",
        "emp = Employee(\"John\", 40, 200)\n",
        "mgr = Manager(\"Bhargav\", 45, 300, 5000)\n",
        "\n",
        "# Display salaries\n",
        "print(f\"{emp.name}'s Salary: ₹{emp.calculate_salary()}\")\n",
        "print(f\"{mgr.name}'s Salary (with bonus): ₹{mgr.calculate_salary()}\")\n"
      ],
      "metadata": {
        "colab": {
          "base_uri": "https://localhost:8080/"
        },
        "id": "EfEKHKiWlEf_",
        "outputId": "5a42a0f7-5891-47e5-a4ee-60c1e415c342"
      },
      "execution_count": 12,
      "outputs": [
        {
          "output_type": "stream",
          "name": "stdout",
          "text": [
            "John's Salary: ₹8000\n",
            "Bhargav's Salary (with bonus): ₹18500\n"
          ]
        }
      ]
    },
    {
      "cell_type": "markdown",
      "source": [
        "Que 15)  Create a class Product with attributes name, price, and quantity. Implement a method total_price() that\n",
        "calculates the total price of the product.\n",
        "\n",
        "\n"
      ],
      "metadata": {
        "id": "fEvCiSXolHrC"
      }
    },
    {
      "cell_type": "code",
      "source": [
        "class Product:\n",
        "    def __init__(self, name, price, quantity):\n",
        "        self.name = name\n",
        "        self.price = price\n",
        "        self.quantity = quantity\n",
        "\n",
        "    def total_price(self):\n",
        "        return self.price * self.quantity\n",
        "\n",
        "# Create a Product object\n",
        "p1 = Product(\"Laptop\", 50000, 2)\n",
        "\n",
        "# Calculate and display total price\n",
        "print(f\"Total price for {p1.quantity} {p1.name}(s): ₹{p1.total_price()}\")\n"
      ],
      "metadata": {
        "colab": {
          "base_uri": "https://localhost:8080/"
        },
        "id": "PcrTdEdBlKv2",
        "outputId": "c7d5b974-e7c2-42d4-ccbb-96465d7ba2f9"
      },
      "execution_count": 13,
      "outputs": [
        {
          "output_type": "stream",
          "name": "stdout",
          "text": [
            "Total price for 2 Laptop(s): ₹100000\n"
          ]
        }
      ]
    },
    {
      "cell_type": "markdown",
      "source": [
        "Que 16 ) Create a class Animal with an abstract method sound(). Create two derived classes Cow and Sheep that\n",
        "implement the sound() method."
      ],
      "metadata": {
        "id": "dnzte4omlN36"
      }
    },
    {
      "cell_type": "code",
      "source": [
        "from abc import ABC, abstractmethod\n",
        "\n",
        "# Abstract base class\n",
        "class Animal(ABC):\n",
        "    @abstractmethod\n",
        "    def sound(self):\n",
        "        pass\n",
        "\n",
        "# Derived class Cow\n",
        "class Cow(Animal):\n",
        "    def sound(self):\n",
        "        print(\"Cow says: Moo\")\n",
        "\n",
        "# Derived class Sheep\n",
        "class Sheep(Animal):\n",
        "    def sound(self):\n",
        "        print(\"Sheep says: Baa\")\n",
        "\n",
        "# Create objects and call sound() method\n",
        "c = Cow()\n",
        "s = Sheep()\n",
        "\n",
        "c.sound()\n",
        "s.sound()\n"
      ],
      "metadata": {
        "colab": {
          "base_uri": "https://localhost:8080/"
        },
        "id": "Ext9EBSxlQlv",
        "outputId": "21680cc8-fc9e-4580-9a34-04910aaf66b3"
      },
      "execution_count": 14,
      "outputs": [
        {
          "output_type": "stream",
          "name": "stdout",
          "text": [
            "Cow says: Moo\n",
            "Sheep says: Baa\n"
          ]
        }
      ]
    },
    {
      "cell_type": "markdown",
      "source": [
        "Que 17) Create a class Book with attributes title, author, and year_published. Add a method get_book_info() that\n",
        "returns a formatted string with the book's details.\n",
        "\n",
        "\n"
      ],
      "metadata": {
        "id": "NRJEj3bhlYAs"
      }
    },
    {
      "cell_type": "code",
      "source": [
        "class Book:\n",
        "    def __init__(self, title, author, year_published):\n",
        "        self.title = title\n",
        "        self.author = author\n",
        "        self.year_published = year_published\n",
        "\n",
        "    def get_book_info(self):\n",
        "        return f\"'{self.title}' by {self.author}, published in {self.year_published}.\"\n",
        "\n",
        "# Create a Book object\n",
        "book1 = Book(\"The Alchemist\", \"Paulo Coelho\", 1988)\n",
        "\n",
        "# Display book information\n",
        "print(book1.get_book_info())\n"
      ],
      "metadata": {
        "colab": {
          "base_uri": "https://localhost:8080/"
        },
        "id": "rwnhMQ_2lZjT",
        "outputId": "ece0508f-aa6a-4de9-9686-a099724be5d7"
      },
      "execution_count": 15,
      "outputs": [
        {
          "output_type": "stream",
          "name": "stdout",
          "text": [
            "'The Alchemist' by Paulo Coelho, published in 1988.\n"
          ]
        }
      ]
    },
    {
      "cell_type": "markdown",
      "source": [
        "Que 18)  Create a class House with attributes address and price. Create a derived class Mansion that adds an\n",
        "attribute number_of_rooms."
      ],
      "metadata": {
        "id": "SZ8eX52vld4k"
      }
    },
    {
      "cell_type": "code",
      "source": [
        "# Base class\n",
        "class House:\n",
        "    def __init__(self, address, price):\n",
        "        self.address = address\n",
        "        self.price = price\n",
        "\n",
        "    def display_info(self):\n",
        "        print(f\"Address: {self.address}\")\n",
        "        print(f\"Price: ₹{self.price}\")\n",
        "\n",
        "# Derived class\n",
        "class Mansion(House):\n",
        "    def __init__(self, address, price, number_of_rooms):\n",
        "        super().__init__(address, price)\n",
        "        self.number_of_rooms = number_of_rooms\n",
        "\n",
        "    def display_info(self):\n",
        "        super().display_info()\n",
        "        print(f\"Number of Rooms: {self.number_of_rooms}\")\n",
        "\n",
        "# Create a Mansion object\n",
        "m1 = Mansion(\"123 Royal Street, Mumbai\", 50000000, 10)\n",
        "\n",
        "# Display mansion details\n",
        "m1.display_info()\n"
      ],
      "metadata": {
        "colab": {
          "base_uri": "https://localhost:8080/"
        },
        "id": "xtn9iJGqlhce",
        "outputId": "8b496e2f-bb78-4b36-cee8-b5b2ced062d2"
      },
      "execution_count": 16,
      "outputs": [
        {
          "output_type": "stream",
          "name": "stdout",
          "text": [
            "Address: 123 Royal Street, Mumbai\n",
            "Price: ₹50000000\n",
            "Number of Rooms: 10\n"
          ]
        }
      ]
    }
  ]
}